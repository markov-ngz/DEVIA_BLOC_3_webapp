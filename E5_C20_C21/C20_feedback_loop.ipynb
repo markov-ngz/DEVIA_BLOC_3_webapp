{
 "cells": [
  {
   "cell_type": "markdown",
   "metadata": {},
   "source": [
    "# C21 : Feeback Loop"
   ]
  },
  {
   "cell_type": "markdown",
   "metadata": {},
   "source": [
    "modele :\n",
    "les embeddings du dataset ont été calculés au préalable en utilisant le même modèle"
   ]
  },
  {
   "cell_type": "markdown",
   "metadata": {},
   "source": [
    "## 0. Import dependencies"
   ]
  },
  {
   "cell_type": "code",
   "execution_count": null,
   "metadata": {},
   "outputs": [],
   "source": [
    "import psycopg2 \n",
    "import pandas as pd\n",
    "import numpy as np\n",
    "import os\n",
    "from sentence_transformers import SentenceTransformer\n",
    "from sentence_transformers import util\n",
    "from dotenv import load_dotenv \n",
    "import logging\n",
    "\n",
    "logger = logging.getLogger(__name__)\n",
    "logging.basicConfig(filename=\"app.log\",level=logging.INFO)\n",
    "\n",
    "reference =\"\"\" @inproceedings{reimers-2019-sentence-bert,\n",
    "    title = \"Sentence-BERT: Sentence Embeddings using Siamese BERT-Networks\",\n",
    "    author = \"Reimers, Nils and Gurevych, Iryna\",\n",
    "    booktitle = \"Proceedings of the 2019 Conference on Empirical Methods in Natural Language Processing\",\n",
    "    month = \"11\",\n",
    "    year = \"2019\",\n",
    "    publisher = \"Association for Computational Linguistics\",\n",
    "    url = \"http://arxiv.org/abs/1908.10084\",\n",
    "}\"\"\"\n",
    "model = SentenceTransformer('sentence-transformers/paraphrase-multilingual-MiniLM-L12-v2')"
   ]
  },
  {
   "cell_type": "markdown",
   "metadata": {},
   "source": [
    "## 1. Récupération des données utilisateurs"
   ]
  },
  {
   "cell_type": "code",
   "execution_count": null,
   "metadata": {},
   "outputs": [],
   "source": [
    "load_dotenv()\n",
    "# PARAMS\n",
    "min_date = \"2024-05-19 12:00:00\""
   ]
  },
  {
   "cell_type": "code",
   "execution_count": null,
   "metadata": {},
   "outputs": [],
   "source": [
    "def get_feedbacks():\n",
    "    \"\"\" Get the feedback from the database where they are stored\"\"\"\n",
    "    conn = psycopg2.connect(f\"dbname={os.getenv('DB_NAME')} user={os.getenv('DB_USERNAME')} password={os.getenv('DB_PASSWORD')} host={os.getenv('DB_HOST')} port={os.getenv('DB_PORT')}\")\n",
    "    cur = conn.cursor()\n",
    "    table_name= \"translation_feedback\"\n",
    "    query_neg = f\"SELECT * FROM {table_name} WHERE created_at > '{min_date}' AND is_correct=False\"\n",
    "    cur.execute(query_neg)\n",
    "    data_neg = cur.fetchall()\n",
    "    conn.close()\n",
    "\n",
    "    return data_neg\n",
    "data_neg = get_feedbacks()"
   ]
  },
  {
   "cell_type": "markdown",
   "metadata": {},
   "source": [
    "## 2. Calcul des embeddings "
   ]
  },
  {
   "cell_type": "code",
   "execution_count": null,
   "metadata": {},
   "outputs": [],
   "source": [
    "# split the sentences for the languages \n",
    "sentences_neg_fr = [i[1] for i in data_neg]\n",
    "sentences_neg_pl = [i[2] for i in data_neg]"
   ]
  },
  {
   "cell_type": "code",
   "execution_count": null,
   "metadata": {},
   "outputs": [],
   "source": [
    "# model card : https://huggingface.co/sentence-transformers/paraphrase-MiniLM-L12-v2  \n",
    "embeddings_feedback_fr = model.encode(sentences_neg_fr)\n",
    "embeddings_feedback_pl = model.encode(sentences_neg_pl)"
   ]
  },
  {
   "cell_type": "markdown",
   "metadata": {},
   "source": [
    "## 3. Flag des données"
   ]
  },
  {
   "cell_type": "code",
   "execution_count": null,
   "metadata": {},
   "outputs": [],
   "source": [
    "# chargement du dataset \n",
    "df_frpl = pd.read_csv(\"datasets/fr_pl.csv\",quotechar=\"}\")"
   ]
  },
  {
   "cell_type": "code",
   "execution_count": null,
   "metadata": {},
   "outputs": [],
   "source": [
    "# chargement des embeddings du dataset\n",
    "path_embeddings_fr = \"datasets/embeddings_fr.npy\"\n",
    "path_embeddings_pl = \"datasets/embeddings_pl.npy\"\n",
    "embeddings_fr = np.load(path_embeddings_fr)\n",
    "embeddings_pl = np.load(path_embeddings_pl)"
   ]
  },
  {
   "cell_type": "code",
   "execution_count": null,
   "metadata": {},
   "outputs": [],
   "source": [
    "# concatenation des 2 langues  \n",
    "embeddings_feedback_frpl = np.array([np.concatenate((embeddings_feedback_fr[i],embeddings_feedback_pl[i])) for i in range(len(embeddings_feedback_fr))])\n",
    "print(embeddings_feedback_frpl.shape)\n",
    "embeddings_frpl = np.array([np.concatenate((embeddings_fr[i],embeddings_pl[i])) for i in range(len(embeddings_fr))])\n",
    "print(embeddings_frpl.shape)"
   ]
  },
  {
   "cell_type": "code",
   "execution_count": null,
   "metadata": {},
   "outputs": [],
   "source": [
    "def flag_similarity(feedbacks:np.array,datasets:np.array,threshold:int=25)->np.array:\n",
    "    \"\"\"\n",
    "        This function performs foreach feedback : \n",
    "            1. Compute cosine similarity \n",
    "            2. Get the indices which are superior to the threshold\n",
    "            3. Append the indexes to a list\n",
    "        Then it remove duplicate values\n",
    "        Return the indexes to flag\n",
    "    \"\"\"\n",
    "    indexes_array = []\n",
    "    for feedback in feedbacks:\n",
    "        sentence_cosine_similarity = util.dot_score(feedback, datasets).sort(descending=True)\n",
    "        n_sentence_same = sentence_cosine_similarity.values[sentence_cosine_similarity.values > threshold].shape[0]\n",
    "        indexes = sentence_cosine_similarity.indices[0][:n_sentence_same].numpy()\n",
    "        indexes_array += list(indexes)\n",
    "    \n",
    "    unique = np.array(indexes_array)\n",
    "    return np.unique(unique)"
   ]
  },
  {
   "cell_type": "code",
   "execution_count": null,
   "metadata": {},
   "outputs": [],
   "source": [
    "# get the indexes to remove or to signal ( depends of the user's choice)\n",
    "indexes_to_flag = flag_similarity(embeddings_feedback_frpl,embeddings_frpl)"
   ]
  },
  {
   "cell_type": "code",
   "execution_count": null,
   "metadata": {},
   "outputs": [],
   "source": [
    "# if not exists, create a column to flag\n",
    "df_frpl[\"flag_incorrect\"] = False\n",
    "# Flag the specified rows \n",
    "df_frpl.loc[indexes_to_flag,\"flag_incorrect\"] = True"
   ]
  },
  {
   "cell_type": "code",
   "execution_count": null,
   "metadata": {},
   "outputs": [],
   "source": [
    "# In this case save the modified dataset \n",
    "df_frpl.to_csv(\"datasets/df_frpl_w_feedbacks.csv\",index=False,quotechar=\"}\")"
   ]
  }
 ],
 "metadata": {
  "kernelspec": {
   "display_name": "c20_env",
   "language": "python",
   "name": "python3"
  },
  "language_info": {
   "name": "python",
   "version": "3.11.9"
  }
 },
 "nbformat": 4,
 "nbformat_minor": 2
}
